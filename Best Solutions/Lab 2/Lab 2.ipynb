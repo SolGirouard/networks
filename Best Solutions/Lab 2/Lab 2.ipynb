{
 "cells": [
  {
   "cell_type": "markdown",
   "metadata": {},
   "source": [
    "# Lab 2 31.01.2017"
   ]
  },
  {
   "cell_type": "markdown",
   "metadata": {},
   "source": [
    "## Clustering coefficient"
   ]
  },
  {
   "cell_type": "markdown",
   "metadata": {},
   "source": [
    "During the lecture we have understood, that the clustering coefficient of a random graph is equal to the probability $p$: $$\\text{Clustering coefficient} = \\frac{\\langle k \\rangle}{n} = p $$\n",
    "In this task you have to check it on generated data. Please, generate $100$ Random Graphs with $n = 1000$ and $p = 0.002$ (for saving computational time) and plot the box-plot of your computations."
   ]
  },
  {
   "cell_type": "code",
   "execution_count": 2,
   "metadata": {
    "collapsed": true
   },
   "outputs": [],
   "source": [
    "import numpy as np\n",
    "import matplotlib.pyplot as plt\n",
    "import networkx as nx\n",
    "%matplotlib inline"
   ]
  },
  {
   "cell_type": "markdown",
   "metadata": {},
   "source": [
    "The first step of this exercise is generating 100 Random Graphs with $n = 1000$ and $p = 0.002$. This part was done using a standard function *fast_gnp_random_graph* which suits for graphs with small p.\n",
    "\n",
    "The second step is calculating clustering coefficient. It was done using a standard function *average_clustering* which calculates average clustering coefficient of the graph.\n",
    "\n",
    "Finally, boxplot was plotted. It shows all clustering coefficients of 100 generated graphs."
   ]
  },
  {
   "cell_type": "code",
   "execution_count": 49,
   "metadata": {
    "collapsed": false
   },
   "outputs": [
    {
     "data": {
      "image/png": "[encoded data removed]",
      "text/plain": [
       "<matplotlib.figure.Figure at 0xbcc3eb8>"
      ]
     },
     "metadata": {},
     "output_type": "display_data"
    }
   ],
   "source": [
    "cc = []\n",
    "for i in range(100):\n",
    "    v = 0\n",
    "    cl = nx.average_clustering(nx.fast_gnp_random_graph(1000, 0.002))\n",
    "    #rg.append(nx.fast_gnp_random_graph(1000, 0.002))\n",
    "    cc.append(float(cl))\n",
    "#print(float(cc)/float(1000))\n",
    "plt.boxplot(cc)\n",
    "plt.show()"
   ]
  },
  {
   "cell_type": "markdown",
   "metadata": {},
   "source": [
    "It can be seen from the picture above that the median of this sample (approximately, 0.001) is smaller than expected value (0.002). It can be explained by the fact that n is not close to infinity for these graphs."
   ]
  },
  {
   "cell_type": "markdown",
   "metadata": {},
   "source": [
    "## Size of small components"
   ]
  },
  {
   "cell_type": "markdown",
   "metadata": {},
   "source": [
    "In this task you are asked to calculate the average size of small components (small component = not a giant one) with regard to average degree of the network. To see the effect clearly, plot average size around $\\langle k \\rangle = 1$."
   ]
  },
  {
   "cell_type": "markdown",
   "metadata": {},
   "source": [
    "\n",
    "\n",
    "The first step of this exercise is defining parameters of graphs. Since $\\langle k \\rangle$ should be around $\\langle k \\rangle = 1$ the list of 8 values around this value was generated. \n",
    "\n",
    "The second step is generating Random Graphs with parameters: $n = 1000$, $p = \\frac {\\langle k \\rangle}{n-1}$.\n",
    "\n",
    "The third step is finding all connected components of these graphs, sorting them and calculating the size of the smallest ones.\n",
    "\n",
    "Finally, the graph was plotted."
   ]
  },
  {
   "cell_type": "code",
   "execution_count": 50,
   "metadata": {
    "collapsed": false
   },
   "outputs": [
    {
     "data": {
      "image/png": "[encoded data removed]",
      "text/plain": [
       "<matplotlib.figure.Figure at 0xa17b630>"
      ]
     },
     "metadata": {},
     "output_type": "display_data"
    }
   ],
   "source": [
    "kset = [0.5, 0.75, 0.9, 1.0, 1.1, 1.25, 1.5, 2.0]\n",
    "deg = []\n",
    "for i in range(len(kset)):\n",
    "    siz = 0\n",
    "    for j in range(100):\n",
    "        nod = 0\n",
    "        gr = nx.fast_gnp_random_graph(1000, float(kset[i])/(1000-1))\n",
    "        cc = sorted(nx.connected_component_subgraphs(gr), key=len)\n",
    "        for k in range(len(cc)-1):\n",
    "            nod = nod + nx.number_of_nodes(cc[k])\n",
    "        siz = siz + float(nod)/(len(cc)-1)\n",
    "    deg.append(float(siz)/100)\n",
    "plt.scatter(kset, deg, s=5)\n",
    "plt.show()"
   ]
  },
  {
   "cell_type": "markdown",
   "metadata": {},
   "source": [
    "It can be seen from the plot above that distribution is close to normal or Poisson. Before $\\langle k \\rangle = 1$ the dependence is close to linear, but after $\\langle k \\rangle = 1$ the dependence becomes exponential-like.\n",
    "\n",
    "To observe phase-transition the dependency of size of the giant component from the $\\langle k \\rangle$ was plotted."
   ]
  },
  {
   "cell_type": "code",
   "execution_count": 37,
   "metadata": {
    "collapsed": false
   },
   "outputs": [
    {
     "data": {
      "image/png": "[encoded data removed]",
      "text/plain": [
       "<matplotlib.figure.Figure at 0x7bac208>"
      ]
     },
     "metadata": {},
     "output_type": "display_data"
    }
   ],
   "source": [
    "kset = [0.5, 0.75, 0.9, 1.0, 1.1, 1.25, 1.5, 2.0]\n",
    "deg = []\n",
    "for i in range(len(kset)):\n",
    "    siz = 0\n",
    "    for j in range(100):\n",
    "        nod = 0\n",
    "        gr = nx.fast_gnp_random_graph(1000, float(kset[i])/(1000-1))\n",
    "        cc = max(nx.connected_component_subgraphs(gr), key=len)\n",
    "        nod = nod + nx.number_of_nodes(cc)\n",
    "        siz = siz + float(nod)\n",
    "    deg.append(float(siz)/100)\n",
    "plt.scatter(kset, deg, s=1)\n",
    "plt.show()"
   ]
  },
  {
   "cell_type": "markdown",
   "metadata": {},
   "source": [
    "It can be seen that the theoretical fact was confirmed. Before $\\langle k \\rangle = 1$ the size of the giant component is close to zero, but after $\\langle k \\rangle = 1$ the character of dependency changes significantly."
   ]
  },
  {
   "cell_type": "markdown",
   "metadata": {},
   "source": [
    "## Average path length and transitivity"
   ]
  },
  {
   "cell_type": "markdown",
   "metadata": {},
   "source": [
    "Plot the average path length and transitivity coefficents with $n=1000$ and p=0.001 while increasing by 0.003"
   ]
  },
  {
   "cell_type": "markdown",
   "metadata": {},
   "source": [
    "The first step of plotting the average transitivity coefficients is defining parameters of graphs. The list of $p$ values from 0.001 to 0.003 was defined.\n",
    "\n",
    "The second step is generating 100 graphs for every value from the list.\n",
    "\n",
    "The third step is calculating average clustering coefficients over these 100 graphs for every value from the list.\n",
    "\n",
    "And the final step is plotting the dependency."
   ]
  },
  {
   "cell_type": "code",
   "execution_count": 40,
   "metadata": {
    "collapsed": false
   },
   "outputs": [
    {
     "data": {
      "image/png": "[encoded data removed]",
      "text/plain": [
       "<matplotlib.figure.Figure at 0x23fb198>"
      ]
     },
     "metadata": {},
     "output_type": "display_data"
    }
   ],
   "source": [
    "pset = [0.001, 0.00125, 0.0015, 0.00175, 0.002, \n",
    "        0.00225, 0.0025, 0.00275, 0.003]\n",
    "degP = []\n",
    "for i in range(len(pset)):\n",
    "    siz = 0.0\n",
    "    for j in range(100):\n",
    "        gr = nx.fast_gnp_random_graph(1000, pset[i])\n",
    "        cc = nx.average_clustering(gr)\n",
    "        siz = siz + float(cc)\n",
    "    degP.append(float(siz)/100)\n",
    "plt.scatter(pset, degP, s=1)\n",
    "plt.show()"
   ]
  },
  {
   "cell_type": "markdown",
   "metadata": {},
   "source": [
    "It can be seen that the character of dependency is close to linear."
   ]
  },
  {
   "cell_type": "markdown",
   "metadata": {},
   "source": [
    "The first step of plotting the average path length is defining parameters of graphs. The list of  $p$  values from 0.001 to 0.003 was defined.\n",
    "\n",
    "The second step is generating 10 graphs for every value from the list.\n",
    "\n",
    "The third step is calculating average path length over all nodes of the giant connected component.\n",
    "\n",
    "The fourth step is calculating average value of all 10 average path lengths over these 10 graphs for every value from the list.\n",
    "\n",
    "Ant the final step is plotting the dependency."
   ]
  },
  {
   "cell_type": "code",
   "execution_count": 43,
   "metadata": {
    "collapsed": true
   },
   "outputs": [],
   "source": [
    "def mean(numbers):\n",
    "    return float(sum(numbers)) / max(len(numbers), 1)"
   ]
  },
  {
   "cell_type": "code",
   "execution_count": 45,
   "metadata": {
    "collapsed": false
   },
   "outputs": [
    {
     "data": {
      "image/png": "[encoded data removed]",
      "text/plain": [
       "<matplotlib.figure.Figure at 0xafba908>"
      ]
     },
     "metadata": {},
     "output_type": "display_data"
    }
   ],
   "source": [
    "pset = [0.001, 0.00125, 0.0015, 0.00175, 0.002, \n",
    "        0.00225, 0.0025, 0.00275, 0.003]\n",
    "degP = []\n",
    "for i in range(len(pset)):\n",
    "    siz = 0.0\n",
    "    for j in range(10):\n",
    "        gr = nx.fast_gnp_random_graph(1000, pset[i])\n",
    "        paths = nx.all_pairs_shortest_path_length(\n",
    "            max(nx.connected_component_subgraphs(gr), key=len\n",
    "               ), cutoff=None)\n",
    "        lens = []\n",
    "        for k in range(len(paths.values())):\n",
    "            for h in range(len(paths.values()[k])):\n",
    "                d=paths.values()[k]\n",
    "                lens.append(d.values()[h])\n",
    "        lens = [x for x in lens if x!=0]\n",
    "        siz = mean(lens)\n",
    "    degP.append(float(siz)/100)\n",
    "plt.scatter(pset, degP, s=1)\n",
    "plt.show()"
   ]
  },
  {
   "cell_type": "markdown",
   "metadata": {},
   "source": [
    "It can be seen that the character of dependency is close to Poisson."
   ]
  }
 ],
 "metadata": {
  "anaconda-cloud": {},
  "kernelspec": {
   "display_name": "Python [conda env:py27]",
   "language": "python",
   "name": "conda-env-py27-py"
  },
  "language_info": {
   "codemirror_mode": {
    "name": "ipython",
    "version": 2
   },
   "file_extension": ".py",
   "mimetype": "text/x-python",
   "name": "python",
   "nbconvert_exporter": "python",
   "pygments_lexer": "ipython2",
   "version": "2.7.8"
  }
 },
 "nbformat": 4,
 "nbformat_minor": 1
}
