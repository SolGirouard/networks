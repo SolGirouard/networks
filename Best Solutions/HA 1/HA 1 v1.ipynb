{
 "cells": [
  {
   "cell_type": "markdown",
   "metadata": {},
   "source": [
    "# <center>Network Science</center>"
   ]
  },
  {
   "cell_type": "markdown",
   "metadata": {},
   "source": [
    "## <center>Home Assignment #1: Power law</center>"
   ]
  },
  {
   "cell_type": "markdown",
   "metadata": {},
   "source": [
    "### <center>Student: *Marina Ananyeva*</center>"
   ]
  },
  {
   "cell_type": "markdown",
   "metadata": {},
   "source": [
    "#### <hr /> General Information"
   ]
  },
  {
   "cell_type": "markdown",
   "metadata": {},
   "source": [
    "**Due Date:** 15.02.2016 23:59 <br \\>\n",
    "**Late submission policy:** -2 points per day <br \\>\n",
    "\n",
    "\n",
    "Please send your reports to <network.hse.2016@gmail.com> with message subject of the following structure:<br \\> **[HSE Networks 2017] *{LastName}* *{First Name}* HA*{Number}***\n",
    "\n",
    "Support your computations with figures and comments. <br \\>\n",
    "If you are using IPython Notebook you may use this file as a starting point of your report.<br \\>\n",
    "<br \\>\n",
    "<hr \\>"
   ]
  },
  {
   "cell_type": "markdown",
   "metadata": {},
   "source": [
    "## Problems"
   ]
  },
  {
   "cell_type": "markdown",
   "metadata": {},
   "source": [
    "### Task 1."
   ]
  },
  {
   "cell_type": "markdown",
   "metadata": {},
   "source": [
    "Load [wordcounts](http://www.leonidzhukov.net/hse/2015/networks/data/wordcounts.txt) dataset. \n",
    "1. Check that Zipf's Law holds\n",
    "2. Assuming that the data is distributed according to the Power Law, find\n",
    " * $\\alpha$ of the distribution\n",
    " * mean sample variance $\\sigma^2$\n",
    "3. Produce summary of the frequencies: min, max, mean, median"
   ]
  },
  {
   "cell_type": "markdown",
   "metadata": {},
   "source": [
    "### 1) Check that Zipf's Law holds\n",
    "\n",
    "According to the lecture, Zipf's law is the frequency of a word in an natural language corpus is inversely proportional to its rank in the frequency table $f (k) ∼ 1/k$.\n",
    "It can be defined by the following equation: $$\n",
    "f(k) = \\frac{\\frac{1}{k^s}}{\\sum_{n=1}^N \\frac{1}{n^s} }\n",
    "$$ where $N$ is the number of elements, $k$ - their rank and $s$ stands for be the value of the exponent characterizing the distribution. \n",
    "In order to check it, we generate values from formula of Zipf's law and try to compare it with our data."
   ]
  },
  {
   "cell_type": "code",
   "execution_count": 1,
   "metadata": {
    "collapsed": false,
    "scrolled": true
   },
   "outputs": [],
   "source": [
    "#python3\n",
    "#*_* encoding=utf-8\n",
    "\n",
    "import matplotlib.pyplot as plt\n",
    "import pandas as pd\n",
    "import numpy as np\n",
    "%matplotlib inline\n",
    "import numpy.random as rnd\n",
    "\n",
    "data = pd.read_csv('wordcounts.txt', delimiter=' ', names=['freq', 'word'])"
   ]
  },
  {
   "cell_type": "markdown",
   "metadata": {},
   "source": [
    "Assuming power law distribution, the graph in log-log would look like a line."
   ]
  },
  {
   "cell_type": "code",
   "execution_count": 16,
   "metadata": {
    "collapsed": false,
    "scrolled": true
   },
   "outputs": [
    {
     "data": {
      "image/png": "[encoded data removed]",
      "text/plain": [
       "<matplotlib.figure.Figure at 0x11644b128>"
      ]
     },
     "metadata": {},
     "output_type": "display_data"
    }
   ],
   "source": [
    "data = np.genfromtxt('wordcounts.txt')\n",
    "\n",
    "# Array of ranks in ascending order\n",
    "ranks = np.arange(1, len(data)+1)\n",
    "\n",
    "# Word frequency according to Zipf's Law\n",
    "word_freq_ideal = []\n",
    "k = 1\n",
    "for i in range(len(data)):\n",
    "    word_freq_ideal.append(data[0,0] / k)\n",
    "    k = k + 1\n",
    "\n",
    "## Estimation by plot in log-log scale\n",
    "with plt.style.context('fivethirtyeight'):\n",
    "    fig.set_size_inches(20,15)\n",
    "    plt.loglog(data[:,0], ranks)\n",
    "    plt.loglog(word_freq_ideal, ranks)\n",
    "    plt.title(\"Zipf's Law (red line) compares to dataset (blue line)\")\n",
    "    plt.xlabel(\"log(word frequency)\")\n",
    "    plt.ylabel(\"log(word rank)\")\n"
   ]
  },
  {
   "cell_type": "markdown",
   "metadata": {},
   "source": [
    "We can observe from the picture, that Zipf's law holds for this dataset."
   ]
  },
  {
   "cell_type": "markdown",
   "metadata": {},
   "source": [
    "### 2) Calculation of $\\alpha$ and $\\sigma$ of the distribution. \n",
    "\n",
    "Maximum likelihood estimation of parameter $\\alpha$ is as follows:\n",
    "$$\n",
    "\\alpha = 1 + n\\left[ \\sum_{i=1}^n \\ln \\frac{x_i}{x_{min}}  \\right]^{-1}\n",
    "$$\n",
    "As for error estimate:\n",
    "$$\n",
    "\\sigma = \\sqrt{n} \\left[ \\sum_{i=1}^n \\ln \\frac{x_i}{x_{min}}  \\right]^{-1} = \\frac{\\alpha - 1}{\\sqrt{n}}\n",
    "$$"
   ]
  },
  {
   "cell_type": "code",
   "execution_count": 14,
   "metadata": {
    "collapsed": false,
    "scrolled": true
   },
   "outputs": [
    {
     "name": "stdout",
     "output_type": "stream",
     "text": [
      "Alpha: 1.7194176300571224\n",
      "Sigma: 0.009050889560804585\n",
      "Sample variance = 15360778764.5\n"
     ]
    }
   ],
   "source": [
    "from math import sqrt, log\n",
    "\n",
    "Xmin = data.freq.min()\n",
    "sum = 0\n",
    "for i in range(len(data.freq)):\n",
    "    sum += log(data.freq[i]/Xmin)\n",
    "    \n",
    "alpha = 1 + len(data.freq)*sum**(-1)\n",
    "print(\"Alpha:\", alpha)\n",
    "sigma = (alpha - 1)/sqrt(len(data.freq))\n",
    "print(\"Sigma:\", sigma)\n",
    "\n",
    "#Assuming the data is distributed according to Power Law, \n",
    "#mean sample variance sigma^2 is counted as follows:\n",
    "var = np.var(D[:,0])\n",
    "print('Sample variance =', var)"
   ]
  },
  {
   "cell_type": "markdown",
   "metadata": {},
   "source": [
    "### 3) Summary of the frequencies: min, max, mean, median\n",
    "It is important to make a remark, that when $alpha$ is less than 2, variance and mean values are not very useful as far as they depend on the sample size. Therefore, we can use median value instead of mean. "
   ]
  },
  {
   "cell_type": "code",
   "execution_count": 12,
   "metadata": {
    "collapsed": false
   },
   "outputs": [
    {
     "name": "stdout",
     "output_type": "stream",
     "text": [
      "Min =  800\n",
      "Max =  6187267\n",
      "Mean =  13566.670781893004\n",
      "Median =  2335.0\n"
     ]
    }
   ],
   "source": [
    "# Summary of the frequencies: min, max, mean, median\n",
    "print('Min = ',data.freq.min())\n",
    "print('Max = ', data.freq.max())\n",
    "print('Mean = ', data.freq.mean())\n",
    "print('Median = ', data.freq.median())"
   ]
  },
  {
   "cell_type": "markdown",
   "metadata": {},
   "source": [
    "### <hr /> Task 2."
   ]
  },
  {
   "cell_type": "markdown",
   "metadata": {},
   "source": [
    "Find and plot PDF and CDF for the following networks:\n",
    "* [Routing network](http://www.leonidzhukov.net/hse/2015/networks/data/network.txt)\n",
    "* [Web graph](http://www.leonidzhukov.net/hse/2015/networks/data/web_Stanford.txt)\n",
    "\n",
    "1. Are they correspondent to power law?\n",
    "2. Find max and mean values of incoming and outcoming node degrees\n",
    "3. Find $\\alpha$ via Maximum Likelihood and calculate $\\sigma^2$\n",
    "4. Determine $x_{min}$ via Kolmogorov-Smirnov test\n",
    "5. Try to fit Erdos model for the Web Graph and describe common and different points in their descriptive statistics"
   ]
  },
  {
   "cell_type": "markdown",
   "metadata": {
    "collapsed": false
   },
   "source": [
    "## <font color='green'>Routing network (undirected graph)</font>"
   ]
  },
  {
   "cell_type": "markdown",
   "metadata": {},
   "source": [
    "### 1) Correspondence to power law"
   ]
  },
  {
   "cell_type": "code",
   "execution_count": 19,
   "metadata": {
    "collapsed": false,
    "scrolled": false
   },
   "outputs": [
    {
     "data": {
      "image/png": "[encoded data removed]",
      "text/plain": [
       "<matplotlib.figure.Figure at 0x11631d6d8>"
      ]
     },
     "metadata": {},
     "output_type": "display_data"
    }
   ],
   "source": [
    "import networkx as nx\n",
    "\n",
    "network = nx.read_edgelist('network.txt', create_using=nx.Graph())\n",
    "\n",
    "deg = network.degree()\n",
    "deg = np.array(list(deg.values()))\n",
    "\n",
    "# Generate uniform pseudorandom variables\n",
    "r = rnd.random(len(deg))\n",
    "alpha = 2.435\n",
    "xmin = deg.min();\n",
    "\n",
    "# Produce power law\n",
    "x = (1 - r)**(-1.0/(alpha - 1)) * xmin\n",
    "\n",
    "yh, binEdges = np.histogram(x, bins = 2000)\n",
    "bincenters = 0.5*(binEdges[1:]+binEdges[:-1])\n",
    "yhR, binEdgesR = np.histogram(kR, bins = 2000)\n",
    "bincentersR = 0.5*(binEdgesR[1:] + binEdgesR[:-1])\n",
    "\n",
    "with plt.style.context('fivethirtyeight'):\n",
    "    fig, ax = plt.subplots()\n",
    "    fig.set_size_inches(14,7)\n",
    "    ax.loglog(bincenters, yh, 'o', lw=2)\n",
    "    ax.loglog(bincentersR, yhR, 'o', lw=2)"
   ]
  },
  {
   "cell_type": "markdown",
   "metadata": {},
   "source": [
    "According to the picture, we can conclude that the data corresponds to power law. "
   ]
  },
  {
   "cell_type": "markdown",
   "metadata": {},
   "source": [
    "### 2) Max and mean values of node degrees"
   ]
  },
  {
   "cell_type": "markdown",
   "metadata": {},
   "source": [
    "Assuming the graph is undirected, incoming and outcoming node degrees are equal"
   ]
  },
  {
   "cell_type": "code",
   "execution_count": 20,
   "metadata": {
    "collapsed": false,
    "scrolled": true
   },
   "outputs": [
    {
     "name": "stdout",
     "output_type": "stream",
     "text": [
      "Max values of incoming node degrees =   2390\n",
      "Mean values of incoming node degrees =   4.21861255062\n"
     ]
    }
   ],
   "source": [
    "a = np.array(list(routing.degree().values()))\n",
    "print('Max values of incoming node degrees =  ', a.max())\n",
    "print('Mean values of incoming node degrees =  ', a.mean())"
   ]
  },
  {
   "cell_type": "markdown",
   "metadata": {},
   "source": [
    "### 3) Parameters $\\alpha$ and $\\sigma$ (Maximum Likelihood)"
   ]
  },
  {
   "cell_type": "code",
   "execution_count": 21,
   "metadata": {
    "collapsed": false,
    "scrolled": false
   },
   "outputs": [
    {
     "name": "stdout",
     "output_type": "stream",
     "text": [
      "alpha =  2.435171752939503\n",
      "sigma =  0.009469729815628086\n"
     ]
    }
   ],
   "source": [
    "Xmin = deg.min()\n",
    "sum = 0\n",
    "for i in range(len(deg)):\n",
    "    sum += log(deg[i]/Xmin)\n",
    "    \n",
    "alpha1 = 1 + len(deg)*sum**(-1)\n",
    "sigma1 = (alpha - 1)/sqrt(len(deg))\n",
    "print('alpha = ', alpha1)\n",
    "print('sigma = ', sigma1)"
   ]
  },
  {
   "cell_type": "markdown",
   "metadata": {},
   "source": [
    "### 4)  Find $x_{min}$ using Kolmogorov-Smirnov test"
   ]
  },
  {
   "cell_type": "code",
   "execution_count": 94,
   "metadata": {
    "collapsed": false,
    "scrolled": false
   },
   "outputs": [
    {
     "name": "stdout",
     "output_type": "stream",
     "text": [
      "Xmin =  1\n"
     ]
    },
    {
     "data": {
      "image/png": "[encoded data removed]",
      "text/plain": [
       "<matplotlib.figure.Figure at 0x1116ff2b0>"
      ]
     },
     "metadata": {},
     "output_type": "display_data"
    }
   ],
   "source": [
    "from scipy import stats\n",
    "\n",
    "A = []\n",
    "N = 100\n",
    "for i in range(N):\n",
    "    r = rnd.random(len(deg)*2)\n",
    "    xmin = i\n",
    "    # Produce power law\n",
    "    x = (1 - r)**(-1.0/(alpha1 - 1)) * xmin\n",
    "\n",
    "    temp = stats.ks_2samp(x, deg)\n",
    "    A.append(temp[0])\n",
    "\n",
    "plt.plot(range(N), A)\n",
    "print('Xmin = ', A.index(min(A)))"
   ]
  },
  {
   "cell_type": "code",
   "execution_count": 99,
   "metadata": {
    "collapsed": false
   },
   "outputs": [],
   "source": [
    "def prep(filename, graph_type='all'):\n",
    "    \n",
    "    # download as graph\n",
    "    G = nx.read_edgelist(filename+'.txt', create_using = nx.DiGraph())\n",
    "    \n",
    "    # get a numpy array with nodes degree\n",
    "    if graph_type == 'all':\n",
    "        nodes_degree = np.array(G.degree().values(), dtype = np.int)\n",
    "    elif graph_type == 'in':\n",
    "        nodes_degree = np.array(G.in_degree().values(), dtype = np.int)\n",
    "    elif graph_type == 'out':\n",
    "        nodes_degree = np.array(G.out_degree().values(), dtype = np.int)\n",
    "    else:\n",
    "        raise Exception(\"Error argument!\")\n",
    "               \n",
    "    # number of nodes with k links\n",
    "    number_of_nodes_with_k_links = np.bincount(nodes_degree)\n",
    "        \n",
    "    # pdf\n",
    "    pdf = number_of_nodes_with_k_links.astype(float) / G.number_of_nodes()\n",
    "        \n",
    "    # cdf\n",
    "    cdf = np.cumsum(pdf)\n",
    "        \n",
    "    return nodes_degree, number_of_nodes_with_k_links, pdf, cdf\n",
    "\n",
    "def KS_test(filename, graph_type='all'):\n",
    "    nodes_degree, number_of_nodes_with_k_links, pdf, cdf = prep(filename, graph_type)\n",
    "    \n",
    "    # make vector to put all max distances for all x_min cases\n",
    "    max_distance = []\n",
    "    \n",
    "    # explore all x_min cases\n",
    "    for x_min in xrange(1, max(nodes_degree)-1):\n",
    "        # build CDF of power law model\n",
    "        nodes_degree_obs_by_x_min = np.arange(1,max(nodes_degree)+1).astype(float)[x_min-1:] / x_min # remember that x >= x_min\n",
    "        alpha = 1 + ( len(nodes_degree_obs_by_x_min) / np.sum(np.log(nodes_degree_obs_by_x_min)) )\n",
    "        power_law_cdf = 1 - (nodes_degree_obs_by_x_min)**(1 - alpha)\n",
    "        \n",
    "        # experimental CDF\n",
    "        exp_pdf = number_of_nodes_with_k_links.astype(float)[x_min:] / np.sum(number_of_nodes_with_k_links.astype(float)[x_min:])\n",
    "        exp_cdf = np.cumsum(exp_pdf)\n",
    "        \n",
    "        # max distance for x_min\n",
    "        M = max(abs(exp_cdf - power_law_cdf))\n",
    "        max_distance.append(M)\n",
    "    \n",
    "    # ideal x_min from which we get power law in our experimantal model\n",
    "    ideal_x_min = max_distance.index(min(max_distance))+1\n",
    "    \n",
    "    # alpha via ML in respect to ideal x_min\n",
    "    ideal_nodes_degree_obs_by_x_min = np.arange(1,max(nodes_degree)+1).astype(float)[ideal_x_min-1:] / ideal_x_min\n",
    "    ideal_alpha = 1 + ( len(ideal_nodes_degree_obs_by_x_min) / np.sum(np.log(ideal_nodes_degree_obs_by_x_min)) )\n",
    "    \n",
    "    # variance (for ideal x_min)\n",
    "    ideal_var = (ideal_alpha - 1)**2 / len(ideal_nodes_degree_obs_by_x_min)\n",
    "    \n",
    "    print(\"x_min = {}, alpha = {} and variance = {}.\\n\").format(filename, graph_type, ideal_x_min, ideal_alpha, ideal_var)"
   ]
  },
  {
   "cell_type": "code",
   "execution_count": 102,
   "metadata": {
    "collapsed": false,
    "scrolled": true
   },
   "outputs": [
    {
     "name": "stdout",
     "output_type": "stream",
     "text": [
      "x_min = 1104, alpha = 3.29693946247 and variance = 0.00409940240424\n"
     ]
    }
   ],
   "source": [
    "KS_test('network')"
   ]
  },
  {
   "cell_type": "markdown",
   "metadata": {},
   "source": [
    "## <font color='green'>WEB graph (directed graph)</font>"
   ]
  },
  {
   "cell_type": "markdown",
   "metadata": {},
   "source": [
    "### 1) Correspondence to power law"
   ]
  },
  {
   "cell_type": "code",
   "execution_count": 25,
   "metadata": {
    "collapsed": false,
    "scrolled": true
   },
   "outputs": [
    {
     "data": {
      "image/png": "[encoded data removed]",
      "text/plain": [
       "<matplotlib.figure.Figure at 0x117b1ee80>"
      ]
     },
     "metadata": {},
     "output_type": "display_data"
    }
   ],
   "source": [
    "web = nx.read_edgelist('web_Stanford.txt', create_using=nx.DiGraph())\n",
    "\n",
    "deg_W = web.degree()\n",
    "deg_W = np.array(list(deg_W.values()))\n",
    "\n",
    "# Generate uniform pseudorandom variables\n",
    "r = rnd.random(len(deg_W))\n",
    "alpha = 2.2\n",
    "xmin = deg_W.min();\n",
    "\n",
    "# Get power law!!!\n",
    "x = (1 - r)**(-1.0/(alpha - 1)) * xmin\n",
    "\n",
    "yh, binEdges = np.histogram(x, bins = 1800)\n",
    "bincenters = 0.5*(binEdges[1:]+binEdges[:-1])\n",
    "yhW, binEdgesW = np.histogram(deg_W, bins = 1800)\n",
    "bincentersW = 0.5*(binEdgesW[1:] + binEdgesW[:-1])\n",
    "\n",
    "with plt.style.context('fivethirtyeight'):\n",
    "    fig, ax = plt.subplots()\n",
    "    fig.set_size_inches(14,7)\n",
    "    ax.loglog(bincenters, yh, 'o', lw=2)\n",
    "    ax.loglog(bincentersW, yhW, 'o', lw=2)"
   ]
  },
  {
   "cell_type": "markdown",
   "metadata": {},
   "source": [
    "As for the previous graph, we can conclude that this dataset also corresponds to power law. "
   ]
  },
  {
   "cell_type": "markdown",
   "metadata": {},
   "source": [
    "### 2. Max and mean values of incoming and outcoming node degrees"
   ]
  },
  {
   "cell_type": "code",
   "execution_count": 29,
   "metadata": {
    "collapsed": false,
    "scrolled": false
   },
   "outputs": [
    {
     "name": "stdout",
     "output_type": "stream",
     "text": [
      " Max value of incoming node degree = 38606\n",
      " Max value of outcoming node degree = 255\n",
      " Mean value of node degree = 8.203165627893283\n"
     ]
    }
   ],
   "source": [
    "a = np.array(list(web.in_degree().values()))\n",
    "print('Max values of incoming node degree =  ', a.max())\n",
    "b = np.array(list(web.out_degree().values()))\n",
    "print('Max values of outcoming node degree =  ', b.max())\n",
    "print('Mean values of node degree =  ', b.mean())"
   ]
  },
  {
   "cell_type": "markdown",
   "metadata": {},
   "source": [
    "### 3. (Maximum Likelihood) $\\alpha$ and $\\sigma$"
   ]
  },
  {
   "cell_type": "code",
   "execution_count": 27,
   "metadata": {
    "collapsed": false
   },
   "outputs": [
    {
     "name": "stdout",
     "output_type": "stream",
     "text": [
      "alpha =  1.9549128855430509\n",
      "sigma =  0.0036623683083163968\n"
     ]
    }
   ],
   "source": [
    "Xmin = deg_W.min()\n",
    "sum = 0\n",
    "for i in range(len(deg_W)):\n",
    "    sum += log(deg_W[i]/Xmin)\n",
    "    \n",
    "alpha_W = 1 + len(deg_W)*sum**(-1)\n",
    "sigma_W = (alpha - 1)/sqrt(len(deg_W))\n",
    "print('alpha = ', alpha_W)\n",
    "print('sigma = ', sigma_W)"
   ]
  },
  {
   "cell_type": "markdown",
   "metadata": {},
   "source": [
    "### 4.  Find $x_{min}$ via Kolmogorov-Smirnov test"
   ]
  },
  {
   "cell_type": "code",
   "execution_count": 68,
   "metadata": {
    "collapsed": false,
    "scrolled": true
   },
   "outputs": [
    {
     "name": "stdout",
     "output_type": "stream",
     "text": [
      "Xmin =  1\n"
     ]
    },
    {
     "data": {
      "image/png": "[encoded data removed]",
      "text/plain": [
       "<matplotlib.figure.Figure at 0x1116957f0>"
      ]
     },
     "metadata": {},
     "output_type": "display_data"
    }
   ],
   "source": [
    "from scipy import stats\n",
    "\n",
    "A = []\n",
    "N = 100\n",
    "for i in range(N):\n",
    "    r = rnd.random(len(deg)*2)\n",
    "    xmin = i\n",
    "    # Produce power law\n",
    "    x = (1 - r)**(-1.0/(alpha1 - 1)) * xmin\n",
    "\n",
    "    temp = stats.ks_2samp(x, deg_W)\n",
    "    A.append(temp[0])\n",
    "\n",
    "plt.plot(range(N), A)\n",
    "print('Xmin = ', D.index(min(A)))"
   ]
  },
  {
   "cell_type": "code",
   "execution_count": null,
   "metadata": {
    "collapsed": true
   },
   "outputs": [],
   "source": [
    "def prep(filename, graph_type='all'):\n",
    "    \n",
    "    # download as graph\n",
    "    G = nx.read_edgelist(filename+'.txt', create_using = nx.DiGraph())\n",
    "    \n",
    "    # get a numpy array with nodes degree\n",
    "    if graph_type == 'all':\n",
    "        nodes_degree = np.array(G.degree().values(), dtype = np.int)\n",
    "    elif graph_type == 'in':\n",
    "        nodes_degree = np.array(G.in_degree().values(), dtype = np.int)\n",
    "    elif graph_type == 'out':\n",
    "        nodes_degree = np.array(G.out_degree().values(), dtype = np.int)\n",
    "    else:\n",
    "        raise Exception(\"Error argument!\")\n",
    "               \n",
    "    # number of nodes with k links\n",
    "    number_of_nodes_with_k_links = np.bincount(nodes_degree)\n",
    "        \n",
    "    # pdf\n",
    "    pdf = number_of_nodes_with_k_links.astype(float) / G.number_of_nodes()\n",
    "        \n",
    "    # cdf\n",
    "    cdf = np.cumsum(pdf)\n",
    "        \n",
    "    return nodes_degree, number_of_nodes_with_k_links, pdf, cdf\n",
    "\n",
    "def KS_test(filename, graph_type='all'):\n",
    "    nodes_degree, number_of_nodes_with_k_links, pdf, cdf = prep(filename, graph_type)\n",
    "    \n",
    "    # make vector to put all max distances for all x_min cases\n",
    "    max_distance = []\n",
    "    \n",
    "    # explore all x_min cases\n",
    "    for x_min in xrange(1, max(nodes_degree)-1):\n",
    "        # build CDF of power law model\n",
    "        nodes_degree_obs_by_x_min = np.arange(1,max(nodes_degree)+1).astype(float)[x_min-1:] / x_min # remember that x >= x_min\n",
    "        alpha = 1 + ( len(nodes_degree_obs_by_x_min) / np.sum(np.log(nodes_degree_obs_by_x_min)) )\n",
    "        power_law_cdf = 1 - (nodes_degree_obs_by_x_min)**(1 - alpha)\n",
    "        \n",
    "        # experimental CDF\n",
    "        exp_pdf = number_of_nodes_with_k_links.astype(float)[x_min:] / np.sum(number_of_nodes_with_k_links.astype(float)[x_min:])\n",
    "        exp_cdf = np.cumsum(exp_pdf)\n",
    "        \n",
    "        # max distance for x_min\n",
    "        M = max(abs(exp_cdf - power_law_cdf))\n",
    "        max_distance.append(M)\n",
    "    \n",
    "    # ideal x_min from which we get power law in our experimantal model\n",
    "    ideal_x_min = max_distance.index(min(max_distance))+1\n",
    "    \n",
    "    # alpha via ML in respect to ideal x_min\n",
    "    ideal_nodes_degree_obs_by_x_min = np.arange(1,max(nodes_degree)+1).astype(float)[ideal_x_min-1:] / ideal_x_min\n",
    "    ideal_alpha = 1 + ( len(ideal_nodes_degree_obs_by_x_min) / np.sum(np.log(ideal_nodes_degree_obs_by_x_min)) )\n",
    "    \n",
    "    # variance (for ideal x_min)\n",
    "    ideal_var = (ideal_alpha - 1)**2 / len(ideal_nodes_degree_obs_by_x_min)\n",
    "    \n",
    "    print(\"x_min = {}, alpha = {} and variance = {}.\\n\").format(filename, graph_type, ideal_x_min, ideal_alpha, ideal_var)"
   ]
  },
  {
   "cell_type": "code",
   "execution_count": 28,
   "metadata": {
    "collapsed": false
   },
   "outputs": [
    {
     "name": "stdout",
     "output_type": "stream",
     "text": [
      "x_min = 3593, alpha = 1.6180207759 and variance = 1.09084845901e-05.\n",
      "x_min = 172, alpha = 5.77060238577 and variance = 0.270936275275\n"
     ]
    }
   ],
   "source": [
    "KS_test('web_Stanford','in')\n",
    "KS_test('web_Stanford','out')"
   ]
  }
 ],
 "metadata": {
  "anaconda-cloud": {},
  "kernelspec": {
   "display_name": "Python [Root]",
   "language": "python",
   "name": "Python [Root]"
  },
  "language_info": {
   "codemirror_mode": {
    "name": "ipython",
    "version": 3
   },
   "file_extension": ".py",
   "mimetype": "text/x-python",
   "name": "python",
   "nbconvert_exporter": "python",
   "pygments_lexer": "ipython3",
   "version": "3.5.2"
  }
 },
 "nbformat": 4,
 "nbformat_minor": 0
}
