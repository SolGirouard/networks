{
 "cells": [
  {
   "cell_type": "markdown",
   "metadata": {},
   "source": [
    "# Lab 3"
   ]
  },
  {
   "cell_type": "markdown",
   "metadata": {},
   "source": [
    "## Estimate parameters for degree distribution"
   ]
  },
  {
   "cell_type": "markdown",
   "metadata": {},
   "source": [
    "$\\textbf{Exercise 1}$\n",
    "\n",
    "In this task you are asked to calculate the degree destribution when $p \\cdot n=1$ and when $p\\cdot n\\to +\\infty$ and estimate parameter $\\lambda$ for Poisson cases and $\\mu,\\sigma^2$ for Gaussian case."
   ]
  },
  {
   "cell_type": "markdown",
   "metadata": {},
   "source": [
    "$\\textbf{Solution}$\n",
    "\n",
    "The first part.\n",
    "\n",
    "Firstly, the random graphs with parameters $p \\cdot n=1$ was generated using standard functions from *NetworkX* package."
   ]
  },
  {
   "cell_type": "code",
   "execution_count": 1,
   "metadata": {
    "collapsed": true
   },
   "outputs": [],
   "source": [
    "import numpy as np\n",
    "import matplotlib.pyplot as plt\n",
    "import networkx as nx\n",
    "%matplotlib inline"
   ]
  },
  {
   "cell_type": "code",
   "execution_count": 2,
   "metadata": {
    "collapsed": false
   },
   "outputs": [],
   "source": [
    "GP = nx.fast_gnp_random_graph(1000, 0.001)"
   ]
  },
  {
   "cell_type": "markdown",
   "metadata": {},
   "source": [
    "Secondly, degree distribution for this case ($p \\cdot n=1$) was calculated and plotted. As it can be seen the degree distribution is close to Poisson."
   ]
  },
  {
   "cell_type": "code",
   "execution_count": 44,
   "metadata": {
    "collapsed": false
   },
   "outputs": [
    {
     "data": {
      "image/png": "[encoded data removed]",
      "text/plain": [
       "<matplotlib.figure.Figure at 0x85683978>"
      ]
     },
     "metadata": {},
     "output_type": "display_data"
    }
   ],
   "source": [
    "k = GP.degree()\n",
    "nod = nx.number_of_nodes(GP)\n",
    "k_sort = np.array(k.values())\n",
    "kset = list(set(k_sort))\n",
    "#kset = [x for x in kset if x!=0]\n",
    "\n",
    "deg = [0]*len(kset)\n",
    "for i in range(len(kset)):\n",
    "    for j in range(len(k_sort)):\n",
    "        if k_sort[j]==kset[i]:\n",
    "            deg[i]=deg[i]+1\n",
    "\n",
    "for i in range(len(deg)):     \n",
    "    deg[i] = float(deg[i])/float(nod)\n",
    "\n",
    "\n",
    "plt.scatter(kset, deg, s=5)\n",
    "plt.show()"
   ]
  },
  {
   "cell_type": "markdown",
   "metadata": {},
   "source": [
    "Thirdly, a parameter $\\lambda$ was estimated using formula $\\hat \\lambda_{MLE} = \\Sigma_{i=1}^n \\frac{k_i}{n}$:\n",
    "\n",
    "Let $X_1, X_2, ..., X_n$ is a sample of size n from Poisson distribution, where $\\lambda>0$. We need to find an estimated value $\\hat \\lambda$ of $\\lambda$.\n",
    "\n",
    "$L_n = \\prod_{i=1}^n \\frac{\\lambda^{X_i}}{X_i!} e^{-\\lambda} = \\frac {\\lambda^{\\Sigma_{i=1}^n X_i}}{\\prod_{i=1}^n X_i!} e^{-n \\lambda}$\n",
    "\n",
    "$l_n = ln\\left( \\frac {\\lambda^{\\Sigma_{i=1}^n X_i}}{\\prod_{i=1}^n X_i!} e^{-n \\lambda} \\right) = \\Sigma_{i=1}^n X_i ln \\left( \\lambda \\right) - ln \\left( \\prod_{i=1}^n X_i! \\right) - n \\lambda $\n",
    "\n",
    "$\\frac {\\partial l_n}{\\partial \\lambda} = \\frac{\\Sigma_{i=1}^n X_i}{\\lambda} - n$\n",
    "\n",
    "Consequently, $\\hat \\lambda_{MLE} = \\Sigma_{i=1}^n \\frac{X_i}{n}$."
   ]
  },
  {
   "cell_type": "code",
   "execution_count": 45,
   "metadata": {
    "collapsed": false
   },
   "outputs": [
    {
     "data": {
      "text/plain": [
       "0.97399999999999998"
      ]
     },
     "execution_count": 45,
     "metadata": {},
     "output_type": "execute_result"
    }
   ],
   "source": [
    "lamb = np.mean(k_sort)\n",
    "lamb"
   ]
  },
  {
   "cell_type": "markdown",
   "metadata": {},
   "source": [
    "As it can be seen below Poisson distribution with parameter $\\lambda = 0.974$ (red dots) is quite close to empirical distribution (blue dots)."
   ]
  },
  {
   "cell_type": "code",
   "execution_count": 47,
   "metadata": {
    "collapsed": false
   },
   "outputs": [
    {
     "data": {
      "image/png": "[encoded data removed]",
      "text/plain": [
       "<matplotlib.figure.Figure at 0x85a6d518>"
      ]
     },
     "metadata": {},
     "output_type": "display_data"
    }
   ],
   "source": [
    "import math\n",
    "ppdf = []\n",
    "for i in range(len(kset)):\n",
    "    ppdf.append((lamb**kset[i])/(np.exp(lamb)*math.factorial(kset[i])))\n",
    "plt.scatter(kset, deg, s=5)\n",
    "plt.scatter(kset, ppdf, s=5, color='red')\n",
    "plt.show()"
   ]
  },
  {
   "cell_type": "markdown",
   "metadata": {},
   "source": [
    "The second part.\n",
    "\n",
    "Firstly, the random graphs with parameters $p \\cdot n \\to + \\infty$ was generated using standard functions from *NetworkX* package."
   ]
  },
  {
   "cell_type": "code",
   "execution_count": 42,
   "metadata": {
    "collapsed": true
   },
   "outputs": [],
   "source": [
    "GG = nx.gnp_random_graph(10000, 0.1)"
   ]
  },
  {
   "cell_type": "markdown",
   "metadata": {},
   "source": [
    "Secondly, degree distribution for the this case was calculated and plotted. As it can be seen the degree distribution is close to Normal."
   ]
  },
  {
   "cell_type": "code",
   "execution_count": 48,
   "metadata": {
    "collapsed": false
   },
   "outputs": [
    {
     "data": {
      "image/png": "[encoded data removed]",
      "text/plain": [
       "<matplotlib.figure.Figure at 0x6947d30>"
      ]
     },
     "metadata": {},
     "output_type": "display_data"
    }
   ],
   "source": [
    "k = GG.degree()\n",
    "nod = nx.number_of_nodes(GG)\n",
    "k_sort = np.array(k.values())\n",
    "kset = list(set(k_sort))\n",
    "#kset = [x for x in kset if x!=0]\n",
    "\n",
    "deg = [0]*len(kset)\n",
    "for i in range(len(kset)):\n",
    "    for j in range(len(k_sort)):\n",
    "        if k_sort[j]==kset[i]:\n",
    "            deg[i]=deg[i]+1\n",
    "\n",
    "for i in range(len(deg)):     \n",
    "    deg[i] = float(deg[i])/float(nod)\n",
    "\n",
    "\n",
    "plt.scatter(kset, deg, s=1)\n",
    "plt.show()"
   ]
  },
  {
   "cell_type": "markdown",
   "metadata": {},
   "source": [
    "Thirdly, parameters $\\mu $ and $\\sigma^2$ were estimated using formulae: $\\hat \\mu_{MLE} = \\Sigma_{i=1}^n \\frac{k_i}{n} = \\bar k$, $\\hat \\sigma_{MLE}^2 = \\frac {1}{n} \\Sigma_{i=1}^n  {\\left( k_i - \\bar k \\right)^2}$.:\n",
    "\n",
    "Let $X_1, X_2, ..., X_n$ is a sample of size n from $\\mathcal{N} \\left( \\mu, \\sigma^2 \\right)$. We need to find an estimated values $\\hat \\mu, \\hat \\sigma^2$ of parameters.\n",
    "\n",
    "$L_n = \\prod_{i=1}^n \\frac {1}{\\sqrt{2\\Pi \\sigma^2}} e^{-\\frac {(X_i - \\mu)^2}{2\\sigma^2}} = \\frac {1}{(2\\Pi \\sigma^2)^{\\frac{n}{2}}} e^{\\frac {\\Sigma_{i=1}^n (X_i - \\mu)^2}{2\\sigma^2}}$\n",
    "\n",
    "$l_n = -\\frac {n}{2} ln\\left(2\\Pi\\right) -\\frac {n}{2} ln\\left(\\sigma^2 \\right)- \\frac {\\Sigma_{i=1}^n (X_i - \\mu)^2}{2\\sigma^2} $\n",
    "\n",
    "$\\frac {\\partial l_n}{\\partial \\mu} = \\frac{2\\Sigma_{i=1}^n (X_i - \\mu)}{2\\sigma^2} = \\frac{\\Sigma_{i=1}^n (X_i - \\mu)}{\\sigma^2}, \\frac {\\partial l_n}{\\partial \\sigma^2} = -\\frac {n}{2\\sigma^2} + \\frac {\\Sigma_{i=1}^n (X_i - \\mu)^2}{2\\sigma^4} $\n",
    "\n",
    "Consequently, $\\hat \\mu_{MLE} = \\Sigma_{i=1}^n \\frac{X_i}{n} = \\bar X$, $\\hat \\sigma_{MLE}^2 = \\frac {1}{n} \\Sigma_{i=1}^n  {\\left( X_i - \\bar X \\right)^2}$."
   ]
  },
  {
   "cell_type": "code",
   "execution_count": 49,
   "metadata": {
    "collapsed": false
   },
   "outputs": [
    {
     "name": "stdout",
     "output_type": "stream",
     "text": [
      "(999.66880000000003, 898.4329065600011)\n"
     ]
    }
   ],
   "source": [
    "mu = np.mean(k_sort)\n",
    "sigma = 0.0\n",
    "for i in range(len(k_sort)):\n",
    "    sigma = sigma+(k_sort[i]-mu)**2\n",
    "sigma = float(sigma)/len(k_sort)\n",
    "print(mu, sigma)"
   ]
  },
  {
   "cell_type": "markdown",
   "metadata": {},
   "source": [
    "As it can be seen below Normal distribution with parameters $\\mu = 1000.2$, $\\sigma = 907.1$ (red dots) is quite close to empirical distribution (blue dots)."
   ]
  },
  {
   "cell_type": "code",
   "execution_count": 50,
   "metadata": {
    "collapsed": false
   },
   "outputs": [
    {
     "data": {
      "image/png": "[encoded data removed]",
      "text/plain": [
       "<matplotlib.figure.Figure at 0x85a70ba8>"
      ]
     },
     "metadata": {},
     "output_type": "display_data"
    }
   ],
   "source": [
    "import matplotlib.mlab as mlab\n",
    "plt.plot(kset,mlab.normpdf(kset, mu, np.sqrt(sigma)), linewidth=0.5, color='red')\n",
    "plt.scatter(kset, deg, s=1)\n",
    "axes = plt.gca()\n",
    "axes.set_ylim([0,0.016])\n",
    "plt.show()"
   ]
  },
  {
   "cell_type": "markdown",
   "metadata": {},
   "source": [
    "$\\textbf{Exercise 2}$\n",
    "\n",
    "Find distributions in limit $n\\to+\\infty$ for degree destribution in Erdos model (use LATEX environment inside MarkDown Cell)\n",
    "\n",
    "Hint: There are two cases that you should find from emprical data above"
   ]
  },
  {
   "cell_type": "markdown",
   "metadata": {},
   "source": [
    "$\\textbf{Solution}$\n",
    "\n",
    "It is known that probability that i-th node has a degree $k_i=k$ is equal to $P(k_i=k)=P(k)=C_{n-1}^k p^k (1-p)^{n-1-k}$, where \n",
    "\n",
    "1) The first case is $n \\to \\infty$ and $pn$ is a constant.\n",
    "\n",
    "Put $\\lambda = np$, then $p = \\frac {\\lambda}{n}$.\n",
    "\n",
    "Rewrite P(k) in terms of $\\lambda$, $n$, $k$.\n",
    "\n",
    "$P(k)=C_{n-1}^k \\left(\\frac{\\lambda}{n} \\right)^k \\left(1-\\frac{\\lambda}{n}\\right)^{n-1-k} = \\frac{(n-1)(n-2)...(n-k)}{k!} \\frac{\\lambda^k}{n^k} \\left(1-\\frac{\\lambda}{n}\\right)^{n-1-k} = \\frac{(n-1)(n-2)...(n-k)}{n^k} \\frac{\\lambda^k}{k!} \\left(1-\\frac{\\lambda}{n}\\right)^{n-1-k} = \\frac {n-1}{n} \\frac{n-2}{n} ... \\frac{n-k}{n} \\frac{\\lambda^k}{k!} \\left(1-\\frac{\\lambda}{n}\\right)^{n-1-k} = \\frac {n-1}{n} \\frac{n-2}{n} ... \\frac{n-k}{n} \\frac{\\lambda^k}{k!} \\left(1-\\frac{\\lambda}{n}\\right)^{n} \\left(1-\\frac{\\lambda}{n}\\right)^{-k-1}$\n",
    "\n",
    "Since $n \\to \\infty$, $\\lambda$ and $k$ are fixed\n",
    "\n",
    "$\\lim_{n \\to \\infty} \\frac {n-1}{n} = 1$, $\\lim_{n \\to \\infty} \\frac {n-2}{n} = 1$ and so on;\n",
    "\n",
    "$\\lim_{n \\to \\infty} \\left(1-\\frac{\\lambda}{n}\\right)^{-k-1} = 1$;\n",
    "\n",
    "$\\lim_{n \\to \\infty} \\left(1-\\frac{\\lambda}{n}\\right)^{n} = e^{-\\lambda}$ (the second remarkable limit),\n",
    "\n",
    "then\n",
    "\n",
    "$P(k) = \\frac{\\lambda^k}{k!} e^{-\\lambda}$."
   ]
  },
  {
   "cell_type": "markdown",
   "metadata": {},
   "source": [
    "2) The second case is $n \\to \\infty$ and $n \\cdot p \\to \\infty$.\n",
    "\n",
    "Put a node $i$, let $X_{i1}$ be a RV which is equal to presence of an edge between the $i$-th node and the first one, $X_{i2}$ be a RV which is equal to presence of an edge between the $i$-th node and the second one and so on. $X_{ij} \\sim Bernoulli(p)$.\n",
    "\n",
    "Then the sum of these RVs is equal to $Y_i$, where $Y_i$ is a RV which is equal to degree of the $i$-th node. Then we need to show that the sum of these RVs $S_n$ (which have Bernoulli distribution) has Normal distribution.\n",
    "\n",
    "Since \n",
    "\n",
    "* $X_{i1}$, $X_{i2}$, ..., $X_{i(n-1)}$ are $iid$,\n",
    "* $X_{i1}$, $X_{i2}$, ..., $X_{i(n-1)} \\sim Bernoulli(p)$\n",
    "* Expected value of these RVs is equal to $p$, distribution of them is equal to $pq$\n",
    "\n",
    "It can be said that $\\frac {S_n - np}{\\sqrt {npq}} \\to \\mathcal{N} \\left(0, 1 \\right)$ (Central Limit Theorem).\n",
    "\n",
    "It means that $\\frac {S_n - np}{\\sqrt {npq}}$ converges in distribution to a standard normal random variable, as $n \\to \\infty$: $\\lim_{n\\to \\infty} P(\\frac {S_n - np}{\\sqrt {npq}} < a) = P(\\xi < a)$.\n",
    "\n",
    "Since $P(\\xi < a) = \\frac {1}{\\sqrt {2 \\Pi}} \\int_{-\\infty}^a e^{- \\frac{t^2}{2}} dt = \\begin{bmatrix} t = \\frac{z-np}{\\sqrt {npq}} \\\\ dt = \\frac{1}{\\sqrt {npq}} dz \\end{bmatrix} =\\frac {1}{\\sqrt {2 \\Pi}} \\int_{-\\infty}^{a\\sqrt{npq}+np} e^{- \\frac{\\left( z-np\\right)^2}{2npq}} \\frac {1}{\\sqrt {npq}} dz = P(\\eta < a\\sqrt{npq}+np)$, where $\\eta \\sim \\mathcal{N} \\left(\\mu, \\sigma^2 \\right)$ we can derive that\n",
    "\n",
    "$\\lim_{n\\to \\infty} P(S_n < a\\sqrt{npq}+np) = P(\\eta < a\\sqrt{npq}+np)$.\n",
    "\n",
    "It means that $S_n$ converges in distribution to a normal random variable with parameters $\\mu = np$, $\\sigma^2 = npq$:\n",
    "\n",
    "$S_n \\to \\mathcal{N} \\left(np, npq \\right)$, consequently, $Y_i \\to \\mathcal{N} \\left(np, npq \\right)$."
   ]
  }
 ],
 "metadata": {
  "anaconda-cloud": {},
  "kernelspec": {
   "display_name": "Python [conda env:py27]",
   "language": "python",
   "name": "conda-env-py27-py"
  },
  "language_info": {
   "codemirror_mode": {
    "name": "ipython",
    "version": 2
   },
   "file_extension": ".py",
   "mimetype": "text/x-python",
   "name": "python",
   "nbconvert_exporter": "python",
   "pygments_lexer": "ipython2",
   "version": "2.7.8"
  }
 },
 "nbformat": 4,
 "nbformat_minor": 1
}
