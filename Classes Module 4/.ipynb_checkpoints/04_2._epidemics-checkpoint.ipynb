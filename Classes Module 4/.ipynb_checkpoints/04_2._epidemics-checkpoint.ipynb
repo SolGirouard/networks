{
 "cells": [
  {
   "cell_type": "markdown",
   "metadata": {
    "deletable": true,
    "editable": true
   },
   "source": [
    "# Epidemics"
   ]
  },
  {
   "cell_type": "markdown",
   "metadata": {
    "deletable": true,
    "editable": true
   },
   "source": [
    "During this seminar we will numerically solve systems of differential equations of SI, SIS and SIR models. <br\\> This experience is going to help us as we switch to network models. "
   ]
  },
  {
   "cell_type": "markdown",
   "metadata": {
    "deletable": true,
    "editable": true
   },
   "source": [
    "## SI model"
   ]
  },
  {
   "cell_type": "markdown",
   "metadata": {
    "deletable": true,
    "editable": true
   },
   "source": [
    "In this model a sustainable infection process is considered. Infected part of population has no chance to be healed..<br>\n",
    "In other words:\n",
    "\\begin{equation}\n",
    "   \\begin{cases}\n",
    "   \\cfrac{ds(t)}{dt} = -\\beta\\,s(t)i(t)\\\\\n",
    "   \\cfrac{di(t)}{dt} = \\beta\\,s(t)i(t)\n",
    "  \\end{cases}\n",
    "  \\\\\n",
    "  i(t) + s(t) = 1\n",
    "\\end{equation}"
   ]
  },
  {
   "cell_type": "code",
   "execution_count": 1,
   "metadata": {
    "collapsed": false,
    "deletable": true,
    "editable": true
   },
   "outputs": [],
   "source": [
    "import numpy as np\n",
    "import matplotlib.pyplot as plt\n",
    "from scipy.integrate import odeint\n",
    "%matplotlib inline"
   ]
  },
  {
   "cell_type": "code",
   "execution_count": 8,
   "metadata": {
    "collapsed": false,
    "deletable": true,
    "editable": true
   },
   "outputs": [],
   "source": [
    "# spreading coefficient\n",
    "beta = 0.2\n",
    "\n",
    "# initial state \n",
    "i0 = 0.6\n",
    "z0 = [1-i0, i0]\n",
    "\n",
    "# time domain\n",
    "t = np.arange(50)\n",
    "\n",
    "# system of differential equations..\n",
    "def si(z, t, beta):\n",
    "    return np.array([\n",
    "        -beta * z[1] * z[0],\n",
    "         beta * z[1] * z[0]])\n",
    "\n",
    "# solved\n",
    "z = odeint(si, z0, t, (beta,))"
   ]
  },
  {
   "cell_type": "code",
   "execution_count": 14,
   "metadata": {
    "collapsed": false,
    "deletable": true,
    "editable": true
   },
   "outputs": [
    {
     "data": {
      "text/plain": [
       "<matplotlib.text.Text at 0x7f51215e66d0>"
      ]
     },
     "execution_count": 14,
     "metadata": {},
     "output_type": "execute_result"
    },
    {
     "data": {
      "image/png": "[encoded data removed]",
      "text/plain": [
       "<matplotlib.figure.Figure at 0x7f5121cdd4d0>"
      ]
     },
     "metadata": {},
     "output_type": "display_data"
    }
   ],
   "source": [
    "# Lets plot our solution and phase-plot\n",
    "fig, ax = plt.subplots(1,2,figsize=(14,6))\n",
    "lines = ax[0].plot(z)\n",
    "plt.setp(lines[0], color='blue')\n",
    "plt.setp(lines[1], color='red')\n",
    "ax[0].set_xlabel('$t$')\n",
    "ax[0].set_ylabel('proportion')\n",
    "ax[0].legend(['$S$', '$I$'])\n",
    "ax[1].plot(z[:,1], z[:,0])\n",
    "ax[1].set_xlabel('$I$')\n",
    "ax[1].set_ylabel('$S$')"
   ]
  },
  {
   "cell_type": "markdown",
   "metadata": {
    "deletable": true,
    "editable": true
   },
   "source": [
    "The cool thing is that we can set $\\beta$ and $\\gamma$ to be dependent on $t$, that is interpreted as some ''sessional'' profile of the desease. <br\\>\n",
    "Now, based on this code, implement SIS and SIR models:"
   ]
  },
  {
   "cell_type": "markdown",
   "metadata": {
    "deletable": true,
    "editable": true
   },
   "source": [
    "## SIS model"
   ]
  },
  {
   "cell_type": "markdown",
   "metadata": {
    "deletable": true,
    "editable": true
   },
   "source": [
    "SIS model allowes infected agents to be cured, but without any further immunity.\n",
    "\\begin{equation}\n",
    "   \\begin{cases}\n",
    "   \\cfrac{ds(t)}{dt} = -\\beta s(t)i(t) + \\gamma i(t)\\\\\n",
    "   \\cfrac{di(t)}{dt} = \\beta s(t)i(t) - \\gamma i(t)\n",
    "  \\end{cases}\n",
    "  \\\\\n",
    "  i(t) + s(t) = 1\n",
    "\\end{equation}\n",
    "Implement this model and check cases when $\\gamma \\lessgtr \\beta$"
   ]
  },
  {
   "cell_type": "code",
   "execution_count": null,
   "metadata": {
    "collapsed": false,
    "deletable": true,
    "editable": true
   },
   "outputs": [],
   "source": []
  }
 ],
 "metadata": {
  "kernelspec": {
   "display_name": "Python 2",
   "language": "python",
   "name": "python2"
  },
  "language_info": {
   "codemirror_mode": {
    "name": "ipython",
    "version": 2
   },
   "file_extension": ".py",
   "mimetype": "text/x-python",
   "name": "python",
   "nbconvert_exporter": "python",
   "pygments_lexer": "ipython2",
   "version": "2.7.13"
  }
 },
 "nbformat": 4,
 "nbformat_minor": 0
}
